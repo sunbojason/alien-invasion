{
 "cells": [
  {
   "cell_type": "code",
   "execution_count": 1,
   "metadata": {},
   "outputs": [
    {
     "name": "stdout",
     "output_type": "stream",
     "text": [
      "pygame 2.0.3 (SDL 2.0.16, Python 3.8.11)\n",
      "Hello from the pygame community. https://www.pygame.org/contribute.html\n"
     ]
    }
   ],
   "source": [
    "'''\n",
    "@File        :alien_invasion.ipynb\n",
    "@Description :\n",
    "@Date        :2021/11/03 22:56:14\n",
    "@Author      :Bo Sun\n",
    "'''\n",
    "\n",
    "\n",
    "import sys\n",
    "import pygame\n",
    "from settings import Settings\n",
    "from ship import Ship"
   ]
  },
  {
   "cell_type": "code",
   "execution_count": 2,
   "metadata": {},
   "outputs": [],
   "source": [
    "class AlienInvasion:\n",
    "    \"\"\"\n",
    "    manage game resources and behaviors\n",
    "    \"\"\"\n",
    "\n",
    "    def __init__(self) -> None:\n",
    "        pygame.init()\n",
    "        \n",
    "        self.settings = Settings()\n",
    "\n",
    "        self.screen = pygame.display.set_mode(\n",
    "            (self.settings.screen_width, \n",
    "            self.settings.screen_height))\n",
    "        pygame.display.set_caption(\"Alien Invasion\")\n",
    "\n",
    "        self.ship = Ship(self) # use self\n",
    "\n",
    "    def run_game(self):\n",
    "        \"\"\"\n",
    "        start the main loop\n",
    "        \"\"\"\n",
    "        while True:\n",
    "            self._check_events()\n",
    "            self._update_screen()\n",
    "            \n",
    "\n",
    "\n",
    "\n",
    "    def _check_events(self):\n",
    "        \"\"\"\n",
    "        monitor & react to keyborad and mouse events\n",
    "        \"\"\"\n",
    "        for event in pygame.event.get():\n",
    "            if event.type == pygame.QUIT:\n",
    "                pygame.quit() # quit pygame\n",
    "                sys.exit()\n",
    "\n",
    "    def _update_screen(self):\n",
    "        \"\"\"\n",
    "        update the image on the screen\n",
    "        switch to the new screen\n",
    "        \"\"\"\n",
    "        # fill the screen at each run\n",
    "        self.screen.fill(self.settings.bg_color) \n",
    "        self.ship.blitme()\n",
    "\n",
    "        # visualisation\n",
    "        # Update the full display Surface to the screen\n",
    "        pygame.display.flip()\n",
    "\n",
    "\n",
    "\n",
    "\n",
    "\n"
   ]
  },
  {
   "cell_type": "code",
   "execution_count": 3,
   "metadata": {},
   "outputs": [
    {
     "ename": "SystemExit",
     "evalue": "",
     "output_type": "error",
     "traceback": [
      "An exception has occurred, use %tb to see the full traceback.\n",
      "\u001b[0;31mSystemExit\u001b[0m\n"
     ]
    },
    {
     "name": "stderr",
     "output_type": "stream",
     "text": [
      "/home/bo/anaconda3/envs/alien/lib/python3.8/site-packages/IPython/core/interactiveshell.py:3452: UserWarning: To exit: use 'exit', 'quit', or Ctrl-D.\n",
      "  warn(\"To exit: use 'exit', 'quit', or Ctrl-D.\", stacklevel=1)\n"
     ]
    }
   ],
   "source": [
    "# if __name__ == 'main':\n",
    "#     ai = AlienInvasion()\n",
    "#     ai.run_game()\n",
    "\n",
    "ai = AlienInvasion()\n",
    "ai.run_game()"
   ]
  }
 ],
 "metadata": {
  "interpreter": {
   "hash": "131321b2e721af8b41f668b0bb468ff99b641c3c8105f7167094547c146b5194"
  },
  "kernelspec": {
   "display_name": "Python 3.8.11 64-bit ('alien': conda)",
   "name": "python3"
  },
  "language_info": {
   "codemirror_mode": {
    "name": "ipython",
    "version": 3
   },
   "file_extension": ".py",
   "mimetype": "text/x-python",
   "name": "python",
   "nbconvert_exporter": "python",
   "pygments_lexer": "ipython3",
   "version": "3.8.11"
  },
  "orig_nbformat": 4
 },
 "nbformat": 4,
 "nbformat_minor": 2
}
